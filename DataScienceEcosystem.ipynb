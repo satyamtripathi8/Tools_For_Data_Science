{
 "cells": [
  {
   "cell_type": "markdown",
   "id": "fa973356-adb6-4fa9-82e9-e2b1e6a3b6f8",
   "metadata": {},
   "source": [
    "# Data Science Tools and Ecosystem"
   ]
  },
  {
   "cell_type": "markdown",
   "id": "d1d9dd28-b271-4c73-876b-624fc7f29109",
   "metadata": {},
   "source": [
    "## In this notebook, Data Science Tools and Ecosystem are summarized."
   ]
  },
  {
   "cell_type": "markdown",
   "id": "cfa55dc1-5003-4745-8fd0-0d5723be9be3",
   "metadata": {},
   "source": [
    "Some of the popular languages that Data Scientists use are:\n",
    "1. Python\n",
    "2. R\n",
    "3. Julia\n",
    "4. Scala"
   ]
  },
  {
   "cell_type": "markdown",
   "id": "8fbc8210-b372-4207-8bbc-9e23642d96c0",
   "metadata": {},
   "source": [
    "Some of the commonly used libraries used by Data Scientists include:\n",
    "1. Pandas\n",
    "2. Numpy\n",
    "3. Matplotlib"
   ]
  },
  {
   "cell_type": "markdown",
   "id": "3dedf8ba-9a01-4d6f-abdd-350537032b57",
   "metadata": {},
   "source": [
    "|Data Science Tools|RStudio|Apache Spark|TensorFlow|\n",
    "|---------|---------|----------|-----------|"
   ]
  },
  {
   "cell_type": "markdown",
   "id": "cc01e0ec-105b-4c57-bd0b-beb763060361",
   "metadata": {},
   "source": [
    "### Below are a few examples of evaluating arithmetic expressions in Python"
   ]
  },
  {
   "cell_type": "code",
   "execution_count": 1,
   "id": "6c28fe23-5dbf-4233-9eb5-702bfebba234",
   "metadata": {
    "tags": []
   },
   "outputs": [
    {
     "data": {
      "text/plain": [
       "17"
      ]
     },
     "execution_count": 1,
     "metadata": {},
     "output_type": "execute_result"
    }
   ],
   "source": [
    "# This a simple arithmetic expression to mutiply then add integers\n",
    "(3*4)+5"
   ]
  },
  {
   "cell_type": "code",
   "execution_count": 3,
   "id": "65b05e52-daab-4a95-b7ea-3b70bd83fb80",
   "metadata": {
    "tags": []
   },
   "outputs": [
    {
     "name": "stdout",
     "output_type": "stream",
     "text": [
      "3.3333333333333335 Hours\n"
     ]
    }
   ],
   "source": [
    "# This will convert 200 minutes to hours by diving by 60\n",
    "x = 200/60\n",
    "print(x,\"Hours\")"
   ]
  },
  {
   "cell_type": "markdown",
   "id": "bd966c57-0e19-486a-93fb-46f7c47d691d",
   "metadata": {},
   "source": [
    "List popular languages for Data Science\n",
    "- Python\n",
    "- R\n",
    "- SQL\n",
    "- Julia"
   ]
  },
  {
   "cell_type": "markdown",
   "id": "01ae4531-55da-444c-a1d9-3dcca23a8720",
   "metadata": {},
   "source": [
    "## Aurthor\n",
    "Satyam Tripathi"
   ]
  },
  {
   "cell_type": "code",
   "execution_count": null,
   "id": "3588c49b-40ff-45e4-9542-2b11529f8db5",
   "metadata": {},
   "outputs": [],
   "source": []
  }
 ],
 "metadata": {
  "kernelspec": {
   "display_name": "Python",
   "language": "python",
   "name": "conda-env-python-py"
  },
  "language_info": {
   "codemirror_mode": {
    "name": "ipython",
    "version": 3
   },
   "file_extension": ".py",
   "mimetype": "text/x-python",
   "name": "python",
   "nbconvert_exporter": "python",
   "pygments_lexer": "ipython3",
   "version": "3.7.12"
  }
 },
 "nbformat": 4,
 "nbformat_minor": 5
}
